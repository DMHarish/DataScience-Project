{
  "nbformat": 4,
  "nbformat_minor": 0,
  "metadata": {
    "kernelspec": {
      "name": "python3",
      "display_name": "Python 3"
    },
    "language_info": {
      "codemirror_mode": {
        "name": "ipython",
        "version": 3
      },
      "file_extension": ".py",
      "mimetype": "text/x-python",
      "name": "python",
      "nbconvert_exporter": "python",
      "pygments_lexer": "ipython3",
      "version": "3.7.3"
    },
    "colab": {
      "name": " 02 Deep_Dive_into_Random_Forest.ipynb",
      "provenance": [],
      "collapsed_sections": [
        "Neiw-mkrUAso",
        "4xlN-ExUVrpZ",
        "sxXtIpWWYIJm",
        "11qZebJSh1Zw"
      ],
      "toc_visible": true,
      "include_colab_link": true
    },
    "accelerator": "GPU"
  },
  "cells": [
    {
      "cell_type": "markdown",
      "metadata": {
        "id": "view-in-github",
        "colab_type": "text"
      },
      "source": [
        "<a href=\"https://colab.research.google.com/github/DMHarish/DataScience-Project/blob/master/RandomForrest/Deep_Dive_into_Random_Forest.ipynb\" target=\"_parent\"><img src=\"https://colab.research.google.com/assets/colab-badge.svg\" alt=\"Open In Colab\"/></a>"
      ]
    },
    {
      "cell_type": "code",
      "metadata": {
        "id": "JTTf_XySQ-tK",
        "colab_type": "code",
        "colab": {
          "base_uri": "https://localhost:8080/",
          "height": 128
        },
        "outputId": "e0073f04-33ea-4229-f838-80ee5b5b6586"
      },
      "source": [
        "from google.colab import drive\n",
        "drive.mount('/content/drive')"
      ],
      "execution_count": 1,
      "outputs": [
        {
          "output_type": "stream",
          "text": [
            "Go to this URL in a browser: https://accounts.google.com/o/oauth2/auth?client_id=947318989803-6bn6qk8qdgf4n4g3pfee6491hc0brc4i.apps.googleusercontent.com&redirect_uri=urn%3Aietf%3Awg%3Aoauth%3A2.0%3Aoob&scope=email%20https%3A%2F%2Fwww.googleapis.com%2Fauth%2Fdocs.test%20https%3A%2F%2Fwww.googleapis.com%2Fauth%2Fdrive%20https%3A%2F%2Fwww.googleapis.com%2Fauth%2Fdrive.photos.readonly%20https%3A%2F%2Fwww.googleapis.com%2Fauth%2Fpeopleapi.readonly&response_type=code\n",
            "\n",
            "Enter your authorization code:\n",
            "··········\n",
            "Mounted at /content/drive\n"
          ],
          "name": "stdout"
        }
      ]
    },
    {
      "cell_type": "markdown",
      "metadata": {
        "id": "nNvvxOMKkOQt",
        "colab_type": "text"
      },
      "source": [
        "# Importing important libraries\n"
      ]
    },
    {
      "cell_type": "code",
      "metadata": {
        "id": "Am_jT3UyHxhs",
        "colab_type": "code",
        "colab": {}
      },
      "source": [
        "import pandas as pd\n",
        "import numpy as np\n",
        "\n",
        "from sklearn.ensemble import RandomForestRegressor\n",
        "from sklearn.metrics import confusion_matrix, mean_squared_error\n",
        "\n",
        "import matplotlib.pyplot as plt\n",
        "from sklearn.tree import export_graphviz\n",
        "import pydotplus\n",
        "from IPython import display\n",
        "from io import StringIO\n",
        "\n",
        "from fastai.imports import *\n"
      ],
      "execution_count": 0,
      "outputs": []
    },
    {
      "cell_type": "code",
      "metadata": {
        "id": "G-3K1zH9R8sv",
        "colab_type": "code",
        "colab": {
          "base_uri": "https://localhost:8080/",
          "height": 35
        },
        "outputId": "2afafa4e-864c-403b-fca4-ca79907d3dbb"
      },
      "source": [
        "%cd drive/My\\ Drive"
      ],
      "execution_count": 3,
      "outputs": [
        {
          "output_type": "stream",
          "text": [
            "/content/drive/My Drive\n"
          ],
          "name": "stdout"
        }
      ]
    },
    {
      "cell_type": "markdown",
      "metadata": {
        "id": "Cs1KeMbukmNF",
        "colab_type": "text"
      },
      "source": [
        "# Collecting Data"
      ]
    },
    {
      "cell_type": "code",
      "metadata": {
        "id": "elojbEWBSx3G",
        "colab_type": "code",
        "colab": {
          "base_uri": "https://localhost:8080/",
          "height": 35
        },
        "outputId": "721583a3-c139-4e3b-dee4-da905f776cde"
      },
      "source": [
        "!pwd"
      ],
      "execution_count": 4,
      "outputs": [
        {
          "output_type": "stream",
          "text": [
            "/content/drive/My Drive\n"
          ],
          "name": "stdout"
        }
      ]
    },
    {
      "cell_type": "code",
      "metadata": {
        "id": "xPMNmf4pTBCj",
        "colab_type": "code",
        "colab": {
          "base_uri": "https://localhost:8080/",
          "height": 872
        },
        "outputId": "dc2b2ed3-a504-4f74-9f25-02507d985259"
      },
      "source": [
        "!ls"
      ],
      "execution_count": 5,
      "outputs": [
        {
          "output_type": "stream",
          "text": [
            "'AR 2.rtf'\n",
            "'AR 3.rtf'\n",
            "'AR 4.rtf'\n",
            "'BIO DATA.docx'\n",
            " bluebook-for-bulldozers.zip\n",
            "'Colab Notebooks'\n",
            "'Data Dictionary.xlsx'\n",
            " Generators.gslides\n",
            " Generators.pptx\n",
            "'Gmail - Reminder for PSK Appointment on 23-Feb-2015.pdf'\n",
            "'Harish (1).doc'\n",
            "'Harish DM First Installment Payment Receipt.pdf'\n",
            " Harish.doc\n",
            " harish.docx.gdoc\n",
            "'HARISH NEW.gdoc'\n",
            " IMG_6721.jpg\n",
            " IMG_6722.jpg\n",
            " IMG_6728.jpg\n",
            "'Lean and Six Sigma.pdf'\n",
            " licence.pdf\n",
            " LPXXXXXXXXXXXX51-WC488694.pdf\n",
            " Machine_Appendix.csv\n",
            " median_benchmark.csv\n",
            " Mohan_Resume.docx\n",
            "'New DS 160.xlsx'\n",
            "'New Harish.doc'\n",
            " random_forest_benchmark_test.csv\n",
            " Resume_Harish.docx\n",
            " SHUBHA.H.R.docx\n",
            "'Smart Python Automation Course.pdf'\n",
            " Statement_2015MTH10_639521171.pdf\n",
            " Statement_2016MTH05_639521171.pdf\n",
            " Statement_2017MTH01_639521171.pdf\n",
            " Statement_2017MTH05_639521171.pdf\n",
            " Test.csv\n",
            " Train.7z\n",
            " TrainAndValid.7z\n",
            " TrainAndValid.csv\n",
            " TrainAndValid.zip\n",
            " Train.csv\n",
            " Train.zip\n",
            "'Untitled spreadsheet.gsheet'\n",
            " Valid.7z\n",
            " Valid.csv\n",
            " ValidSolution.csv\n",
            " Valid.zip\n",
            " vbabook_ed2.pdf\n"
          ],
          "name": "stdout"
        }
      ]
    },
    {
      "cell_type": "code",
      "metadata": {
        "id": "mQ01ad8PRK8A",
        "colab_type": "code",
        "outputId": "c57e1468-0916-4e5d-89f8-42faca8f3a9b",
        "colab": {
          "base_uri": "https://localhost:8080/",
          "height": 290
        }
      },
      "source": [
        "!unzip bluebook-for-bulldozers.zip"
      ],
      "execution_count": 7,
      "outputs": [
        {
          "output_type": "stream",
          "text": [
            "Archive:  bluebook-for-bulldozers.zip\n",
            "replace TrainAndValid.csv? [y]es, [n]o, [A]ll, [N]one, [r]ename: n\n",
            "replace Train.zip? [y]es, [n]o, [A]ll, [N]one, [r]ename: n\n",
            "replace Train.7z? [y]es, [n]o, [A]ll, [N]one, [r]ename: n\n",
            "replace Valid.7z? [y]es, [n]o, [A]ll, [N]one, [r]ename: n\n",
            "replace Test.csv? [y]es, [n]o, [A]ll, [N]one, [r]ename: n\n",
            "replace Machine_Appendix.csv? [y]es, [n]o, [A]ll, [N]one, [r]ename: n\n",
            "replace median_benchmark.csv? [y]es, [n]o, [A]ll, [N]one, [r]ename: n\n",
            "replace ValidSolution.csv? [y]es, [n]o, [A]ll, [N]one, [r]ename: n\n",
            "replace TrainAndValid.7z? [y]es, [n]o, [A]ll, [N]one, [r]ename: n\n",
            "replace random_forest_benchmark_test.csv? [y]es, [n]o, [A]ll, [N]one, [r]ename: n\n",
            "replace Valid.zip? [y]es, [n]o, [A]ll, [N]one, [r]ename: n\n",
            "replace Data Dictionary.xlsx? [y]es, [n]o, [A]ll, [N]one, [r]ename: n\n",
            "replace TrainAndValid.zip? [y]es, [n]o, [A]ll, [N]one, [r]ename: n\n",
            "replace Valid.csv? [y]es, [n]o, [A]ll, [N]one, [r]ename: n\n"
          ],
          "name": "stdout"
        }
      ]
    },
    {
      "cell_type": "code",
      "metadata": {
        "id": "shkck62rHxhv",
        "colab_type": "code",
        "colab": {}
      },
      "source": [
        "PATH = \"bluebook-for-bulldozers/\""
      ],
      "execution_count": 0,
      "outputs": []
    },
    {
      "cell_type": "code",
      "metadata": {
        "id": "SmIBtfi3Hxh3",
        "colab_type": "code",
        "outputId": "19a9f0fc-6811-435b-a5e2-27597b63373b",
        "colab": {
          "base_uri": "https://localhost:8080/",
          "height": 35
        }
      },
      "source": [
        "!ls {PATH}"
      ],
      "execution_count": 11,
      "outputs": [
        {
          "output_type": "stream",
          "text": [
            "Train.csv\n"
          ],
          "name": "stdout"
        }
      ]
    },
    {
      "cell_type": "code",
      "metadata": {
        "id": "062EVV3nHxh9",
        "colab_type": "code",
        "colab": {}
      },
      "source": [
        "data_raw = pd.read_csv(f'{PATH}Train.csv',low_memory=False, \n",
        "                     parse_dates=[\"saledate\"] )"
      ],
      "execution_count": 0,
      "outputs": []
    },
    {
      "cell_type": "code",
      "metadata": {
        "id": "tTzRcRXGVxGO",
        "colab_type": "code",
        "colab": {
          "base_uri": "https://localhost:8080/",
          "height": 356
        },
        "outputId": "977b3db9-5c7b-45f3-850c-f77df265e643"
      },
      "source": [
        "data_raw.head()"
      ],
      "execution_count": 13,
      "outputs": [
        {
          "output_type": "execute_result",
          "data": {
            "text/html": [
              "<div>\n",
              "<style scoped>\n",
              "    .dataframe tbody tr th:only-of-type {\n",
              "        vertical-align: middle;\n",
              "    }\n",
              "\n",
              "    .dataframe tbody tr th {\n",
              "        vertical-align: top;\n",
              "    }\n",
              "\n",
              "    .dataframe thead th {\n",
              "        text-align: right;\n",
              "    }\n",
              "</style>\n",
              "<table border=\"1\" class=\"dataframe\">\n",
              "  <thead>\n",
              "    <tr style=\"text-align: right;\">\n",
              "      <th></th>\n",
              "      <th>SalesID</th>\n",
              "      <th>SalePrice</th>\n",
              "      <th>MachineID</th>\n",
              "      <th>ModelID</th>\n",
              "      <th>datasource</th>\n",
              "      <th>auctioneerID</th>\n",
              "      <th>YearMade</th>\n",
              "      <th>MachineHoursCurrentMeter</th>\n",
              "      <th>UsageBand</th>\n",
              "      <th>saledate</th>\n",
              "      <th>fiModelDesc</th>\n",
              "      <th>fiBaseModel</th>\n",
              "      <th>fiSecondaryDesc</th>\n",
              "      <th>fiModelSeries</th>\n",
              "      <th>fiModelDescriptor</th>\n",
              "      <th>ProductSize</th>\n",
              "      <th>fiProductClassDesc</th>\n",
              "      <th>state</th>\n",
              "      <th>ProductGroup</th>\n",
              "      <th>ProductGroupDesc</th>\n",
              "      <th>Drive_System</th>\n",
              "      <th>Enclosure</th>\n",
              "      <th>Forks</th>\n",
              "      <th>Pad_Type</th>\n",
              "      <th>Ride_Control</th>\n",
              "      <th>Stick</th>\n",
              "      <th>Transmission</th>\n",
              "      <th>Turbocharged</th>\n",
              "      <th>Blade_Extension</th>\n",
              "      <th>Blade_Width</th>\n",
              "      <th>Enclosure_Type</th>\n",
              "      <th>Engine_Horsepower</th>\n",
              "      <th>Hydraulics</th>\n",
              "      <th>Pushblock</th>\n",
              "      <th>Ripper</th>\n",
              "      <th>Scarifier</th>\n",
              "      <th>Tip_Control</th>\n",
              "      <th>Tire_Size</th>\n",
              "      <th>Coupler</th>\n",
              "      <th>Coupler_System</th>\n",
              "      <th>Grouser_Tracks</th>\n",
              "      <th>Hydraulics_Flow</th>\n",
              "      <th>Track_Type</th>\n",
              "      <th>Undercarriage_Pad_Width</th>\n",
              "      <th>Stick_Length</th>\n",
              "      <th>Thumb</th>\n",
              "      <th>Pattern_Changer</th>\n",
              "      <th>Grouser_Type</th>\n",
              "      <th>Backhoe_Mounting</th>\n",
              "      <th>Blade_Type</th>\n",
              "      <th>Travel_Controls</th>\n",
              "      <th>Differential_Type</th>\n",
              "      <th>Steering_Controls</th>\n",
              "    </tr>\n",
              "  </thead>\n",
              "  <tbody>\n",
              "    <tr>\n",
              "      <th>0</th>\n",
              "      <td>1139246</td>\n",
              "      <td>66000</td>\n",
              "      <td>999089</td>\n",
              "      <td>3157</td>\n",
              "      <td>121</td>\n",
              "      <td>3.0</td>\n",
              "      <td>2004</td>\n",
              "      <td>68.0</td>\n",
              "      <td>Low</td>\n",
              "      <td>2006-11-16</td>\n",
              "      <td>521D</td>\n",
              "      <td>521</td>\n",
              "      <td>D</td>\n",
              "      <td>NaN</td>\n",
              "      <td>NaN</td>\n",
              "      <td>NaN</td>\n",
              "      <td>Wheel Loader - 110.0 to 120.0 Horsepower</td>\n",
              "      <td>Alabama</td>\n",
              "      <td>WL</td>\n",
              "      <td>Wheel Loader</td>\n",
              "      <td>NaN</td>\n",
              "      <td>EROPS w AC</td>\n",
              "      <td>None or Unspecified</td>\n",
              "      <td>NaN</td>\n",
              "      <td>None or Unspecified</td>\n",
              "      <td>NaN</td>\n",
              "      <td>NaN</td>\n",
              "      <td>NaN</td>\n",
              "      <td>NaN</td>\n",
              "      <td>NaN</td>\n",
              "      <td>NaN</td>\n",
              "      <td>NaN</td>\n",
              "      <td>2 Valve</td>\n",
              "      <td>NaN</td>\n",
              "      <td>NaN</td>\n",
              "      <td>NaN</td>\n",
              "      <td>NaN</td>\n",
              "      <td>None or Unspecified</td>\n",
              "      <td>None or Unspecified</td>\n",
              "      <td>NaN</td>\n",
              "      <td>NaN</td>\n",
              "      <td>NaN</td>\n",
              "      <td>NaN</td>\n",
              "      <td>NaN</td>\n",
              "      <td>NaN</td>\n",
              "      <td>NaN</td>\n",
              "      <td>NaN</td>\n",
              "      <td>NaN</td>\n",
              "      <td>NaN</td>\n",
              "      <td>NaN</td>\n",
              "      <td>NaN</td>\n",
              "      <td>Standard</td>\n",
              "      <td>Conventional</td>\n",
              "    </tr>\n",
              "    <tr>\n",
              "      <th>1</th>\n",
              "      <td>1139248</td>\n",
              "      <td>57000</td>\n",
              "      <td>117657</td>\n",
              "      <td>77</td>\n",
              "      <td>121</td>\n",
              "      <td>3.0</td>\n",
              "      <td>1996</td>\n",
              "      <td>4640.0</td>\n",
              "      <td>Low</td>\n",
              "      <td>2004-03-26</td>\n",
              "      <td>950FII</td>\n",
              "      <td>950</td>\n",
              "      <td>F</td>\n",
              "      <td>II</td>\n",
              "      <td>NaN</td>\n",
              "      <td>Medium</td>\n",
              "      <td>Wheel Loader - 150.0 to 175.0 Horsepower</td>\n",
              "      <td>North Carolina</td>\n",
              "      <td>WL</td>\n",
              "      <td>Wheel Loader</td>\n",
              "      <td>NaN</td>\n",
              "      <td>EROPS w AC</td>\n",
              "      <td>None or Unspecified</td>\n",
              "      <td>NaN</td>\n",
              "      <td>None or Unspecified</td>\n",
              "      <td>NaN</td>\n",
              "      <td>NaN</td>\n",
              "      <td>NaN</td>\n",
              "      <td>NaN</td>\n",
              "      <td>NaN</td>\n",
              "      <td>NaN</td>\n",
              "      <td>NaN</td>\n",
              "      <td>2 Valve</td>\n",
              "      <td>NaN</td>\n",
              "      <td>NaN</td>\n",
              "      <td>NaN</td>\n",
              "      <td>NaN</td>\n",
              "      <td>23.5</td>\n",
              "      <td>None or Unspecified</td>\n",
              "      <td>NaN</td>\n",
              "      <td>NaN</td>\n",
              "      <td>NaN</td>\n",
              "      <td>NaN</td>\n",
              "      <td>NaN</td>\n",
              "      <td>NaN</td>\n",
              "      <td>NaN</td>\n",
              "      <td>NaN</td>\n",
              "      <td>NaN</td>\n",
              "      <td>NaN</td>\n",
              "      <td>NaN</td>\n",
              "      <td>NaN</td>\n",
              "      <td>Standard</td>\n",
              "      <td>Conventional</td>\n",
              "    </tr>\n",
              "    <tr>\n",
              "      <th>2</th>\n",
              "      <td>1139249</td>\n",
              "      <td>10000</td>\n",
              "      <td>434808</td>\n",
              "      <td>7009</td>\n",
              "      <td>121</td>\n",
              "      <td>3.0</td>\n",
              "      <td>2001</td>\n",
              "      <td>2838.0</td>\n",
              "      <td>High</td>\n",
              "      <td>2004-02-26</td>\n",
              "      <td>226</td>\n",
              "      <td>226</td>\n",
              "      <td>NaN</td>\n",
              "      <td>NaN</td>\n",
              "      <td>NaN</td>\n",
              "      <td>NaN</td>\n",
              "      <td>Skid Steer Loader - 1351.0 to 1601.0 Lb Operat...</td>\n",
              "      <td>New York</td>\n",
              "      <td>SSL</td>\n",
              "      <td>Skid Steer Loaders</td>\n",
              "      <td>NaN</td>\n",
              "      <td>OROPS</td>\n",
              "      <td>None or Unspecified</td>\n",
              "      <td>NaN</td>\n",
              "      <td>NaN</td>\n",
              "      <td>NaN</td>\n",
              "      <td>NaN</td>\n",
              "      <td>NaN</td>\n",
              "      <td>NaN</td>\n",
              "      <td>NaN</td>\n",
              "      <td>NaN</td>\n",
              "      <td>NaN</td>\n",
              "      <td>Auxiliary</td>\n",
              "      <td>NaN</td>\n",
              "      <td>NaN</td>\n",
              "      <td>NaN</td>\n",
              "      <td>NaN</td>\n",
              "      <td>NaN</td>\n",
              "      <td>None or Unspecified</td>\n",
              "      <td>None or Unspecified</td>\n",
              "      <td>None or Unspecified</td>\n",
              "      <td>Standard</td>\n",
              "      <td>NaN</td>\n",
              "      <td>NaN</td>\n",
              "      <td>NaN</td>\n",
              "      <td>NaN</td>\n",
              "      <td>NaN</td>\n",
              "      <td>NaN</td>\n",
              "      <td>NaN</td>\n",
              "      <td>NaN</td>\n",
              "      <td>NaN</td>\n",
              "      <td>NaN</td>\n",
              "      <td>NaN</td>\n",
              "    </tr>\n",
              "    <tr>\n",
              "      <th>3</th>\n",
              "      <td>1139251</td>\n",
              "      <td>38500</td>\n",
              "      <td>1026470</td>\n",
              "      <td>332</td>\n",
              "      <td>121</td>\n",
              "      <td>3.0</td>\n",
              "      <td>2001</td>\n",
              "      <td>3486.0</td>\n",
              "      <td>High</td>\n",
              "      <td>2011-05-19</td>\n",
              "      <td>PC120-6E</td>\n",
              "      <td>PC120</td>\n",
              "      <td>NaN</td>\n",
              "      <td>-6E</td>\n",
              "      <td>NaN</td>\n",
              "      <td>Small</td>\n",
              "      <td>Hydraulic Excavator, Track - 12.0 to 14.0 Metr...</td>\n",
              "      <td>Texas</td>\n",
              "      <td>TEX</td>\n",
              "      <td>Track Excavators</td>\n",
              "      <td>NaN</td>\n",
              "      <td>EROPS w AC</td>\n",
              "      <td>NaN</td>\n",
              "      <td>NaN</td>\n",
              "      <td>NaN</td>\n",
              "      <td>NaN</td>\n",
              "      <td>NaN</td>\n",
              "      <td>NaN</td>\n",
              "      <td>NaN</td>\n",
              "      <td>NaN</td>\n",
              "      <td>NaN</td>\n",
              "      <td>NaN</td>\n",
              "      <td>2 Valve</td>\n",
              "      <td>NaN</td>\n",
              "      <td>NaN</td>\n",
              "      <td>NaN</td>\n",
              "      <td>NaN</td>\n",
              "      <td>NaN</td>\n",
              "      <td>None or Unspecified</td>\n",
              "      <td>NaN</td>\n",
              "      <td>NaN</td>\n",
              "      <td>NaN</td>\n",
              "      <td>NaN</td>\n",
              "      <td>NaN</td>\n",
              "      <td>NaN</td>\n",
              "      <td>NaN</td>\n",
              "      <td>NaN</td>\n",
              "      <td>NaN</td>\n",
              "      <td>NaN</td>\n",
              "      <td>NaN</td>\n",
              "      <td>NaN</td>\n",
              "      <td>NaN</td>\n",
              "      <td>NaN</td>\n",
              "    </tr>\n",
              "    <tr>\n",
              "      <th>4</th>\n",
              "      <td>1139253</td>\n",
              "      <td>11000</td>\n",
              "      <td>1057373</td>\n",
              "      <td>17311</td>\n",
              "      <td>121</td>\n",
              "      <td>3.0</td>\n",
              "      <td>2007</td>\n",
              "      <td>722.0</td>\n",
              "      <td>Medium</td>\n",
              "      <td>2009-07-23</td>\n",
              "      <td>S175</td>\n",
              "      <td>S175</td>\n",
              "      <td>NaN</td>\n",
              "      <td>NaN</td>\n",
              "      <td>NaN</td>\n",
              "      <td>NaN</td>\n",
              "      <td>Skid Steer Loader - 1601.0 to 1751.0 Lb Operat...</td>\n",
              "      <td>New York</td>\n",
              "      <td>SSL</td>\n",
              "      <td>Skid Steer Loaders</td>\n",
              "      <td>NaN</td>\n",
              "      <td>EROPS</td>\n",
              "      <td>None or Unspecified</td>\n",
              "      <td>NaN</td>\n",
              "      <td>NaN</td>\n",
              "      <td>NaN</td>\n",
              "      <td>NaN</td>\n",
              "      <td>NaN</td>\n",
              "      <td>NaN</td>\n",
              "      <td>NaN</td>\n",
              "      <td>NaN</td>\n",
              "      <td>NaN</td>\n",
              "      <td>Auxiliary</td>\n",
              "      <td>NaN</td>\n",
              "      <td>NaN</td>\n",
              "      <td>NaN</td>\n",
              "      <td>NaN</td>\n",
              "      <td>NaN</td>\n",
              "      <td>None or Unspecified</td>\n",
              "      <td>None or Unspecified</td>\n",
              "      <td>None or Unspecified</td>\n",
              "      <td>Standard</td>\n",
              "      <td>NaN</td>\n",
              "      <td>NaN</td>\n",
              "      <td>NaN</td>\n",
              "      <td>NaN</td>\n",
              "      <td>NaN</td>\n",
              "      <td>NaN</td>\n",
              "      <td>NaN</td>\n",
              "      <td>NaN</td>\n",
              "      <td>NaN</td>\n",
              "      <td>NaN</td>\n",
              "      <td>NaN</td>\n",
              "    </tr>\n",
              "  </tbody>\n",
              "</table>\n",
              "</div>"
            ],
            "text/plain": [
              "   SalesID  SalePrice  ...  Differential_Type  Steering_Controls\n",
              "0  1139246      66000  ...           Standard       Conventional\n",
              "1  1139248      57000  ...           Standard       Conventional\n",
              "2  1139249      10000  ...                NaN                NaN\n",
              "3  1139251      38500  ...                NaN                NaN\n",
              "4  1139253      11000  ...                NaN                NaN\n",
              "\n",
              "[5 rows x 53 columns]"
            ]
          },
          "metadata": {
            "tags": []
          },
          "execution_count": 13
        }
      ]
    },
    {
      "cell_type": "code",
      "metadata": {
        "id": "5uZDUk-VHxiB",
        "colab_type": "code",
        "colab": {}
      },
      "source": [
        "def display_all(df):\n",
        "    with pd.option_context(\"display.max_rows\", 1000, \"display.max_columns\", 1000): \n",
        "        display(df)"
      ],
      "execution_count": 0,
      "outputs": []
    },
    {
      "cell_type": "code",
      "metadata": {
        "id": "ljFfkoAPHxiE",
        "colab_type": "code",
        "colab": {}
      },
      "source": [
        "data_prac = data_raw.copy()"
      ],
      "execution_count": 0,
      "outputs": []
    },
    {
      "cell_type": "markdown",
      "metadata": {
        "id": "8tSQXtrrksTv",
        "colab_type": "text"
      },
      "source": [
        "# Learning the Data"
      ]
    },
    {
      "cell_type": "code",
      "metadata": {
        "id": "O6Olkiu7HxiG",
        "colab_type": "code",
        "outputId": "0f06f697-1a79-4317-fe77-0fe443e519bc",
        "colab": {
          "base_uri": "https://localhost:8080/",
          "height": 1000
        }
      },
      "source": [
        "data_prac.info()"
      ],
      "execution_count": 15,
      "outputs": [
        {
          "output_type": "stream",
          "text": [
            "<class 'pandas.core.frame.DataFrame'>\n",
            "RangeIndex: 401125 entries, 0 to 401124\n",
            "Data columns (total 53 columns):\n",
            "SalesID                     401125 non-null int64\n",
            "SalePrice                   401125 non-null int64\n",
            "MachineID                   401125 non-null int64\n",
            "ModelID                     401125 non-null int64\n",
            "datasource                  401125 non-null int64\n",
            "auctioneerID                380989 non-null float64\n",
            "YearMade                    401125 non-null int64\n",
            "MachineHoursCurrentMeter    142765 non-null float64\n",
            "UsageBand                   69639 non-null object\n",
            "saledate                    401125 non-null datetime64[ns]\n",
            "fiModelDesc                 401125 non-null object\n",
            "fiBaseModel                 401125 non-null object\n",
            "fiSecondaryDesc             263934 non-null object\n",
            "fiModelSeries               56908 non-null object\n",
            "fiModelDescriptor           71919 non-null object\n",
            "ProductSize                 190350 non-null object\n",
            "fiProductClassDesc          401125 non-null object\n",
            "state                       401125 non-null object\n",
            "ProductGroup                401125 non-null object\n",
            "ProductGroupDesc            401125 non-null object\n",
            "Drive_System                104361 non-null object\n",
            "Enclosure                   400800 non-null object\n",
            "Forks                       192077 non-null object\n",
            "Pad_Type                    79134 non-null object\n",
            "Ride_Control                148606 non-null object\n",
            "Stick                       79134 non-null object\n",
            "Transmission                183230 non-null object\n",
            "Turbocharged                79134 non-null object\n",
            "Blade_Extension             25219 non-null object\n",
            "Blade_Width                 25219 non-null object\n",
            "Enclosure_Type              25219 non-null object\n",
            "Engine_Horsepower           25219 non-null object\n",
            "Hydraulics                  320570 non-null object\n",
            "Pushblock                   25219 non-null object\n",
            "Ripper                      104137 non-null object\n",
            "Scarifier                   25230 non-null object\n",
            "Tip_Control                 25219 non-null object\n",
            "Tire_Size                   94718 non-null object\n",
            "Coupler                     213952 non-null object\n",
            "Coupler_System              43458 non-null object\n",
            "Grouser_Tracks              43362 non-null object\n",
            "Hydraulics_Flow             43362 non-null object\n",
            "Track_Type                  99153 non-null object\n",
            "Undercarriage_Pad_Width     99872 non-null object\n",
            "Stick_Length                99218 non-null object\n",
            "Thumb                       99288 non-null object\n",
            "Pattern_Changer             99218 non-null object\n",
            "Grouser_Type                99153 non-null object\n",
            "Backhoe_Mounting            78672 non-null object\n",
            "Blade_Type                  79833 non-null object\n",
            "Travel_Controls             79834 non-null object\n",
            "Differential_Type           69411 non-null object\n",
            "Steering_Controls           69369 non-null object\n",
            "dtypes: datetime64[ns](1), float64(2), int64(6), object(44)\n",
            "memory usage: 162.2+ MB\n"
          ],
          "name": "stdout"
        }
      ]
    },
    {
      "cell_type": "code",
      "metadata": {
        "id": "UHMlzpl1HxiI",
        "colab_type": "code",
        "colab": {}
      },
      "source": [
        "def assigning_categorical(data, column):\n",
        "    categories = []\n",
        "    for i in data[column].unique():\n",
        "        categories.append(i)\n",
        "    try:    \n",
        "        categories.remove(np.nan)\n",
        "    except Exception as e:\n",
        "        pass\n",
        "    data[column+'_new'] = pd.Categorical(data[column], categories=categories, ordered=True).codes\n",
        "    data.drop(f'{column}', axis=1, inplace = True)\n",
        "    data.replace(-1, np.nan, inplace=True)"
      ],
      "execution_count": 0,
      "outputs": []
    },
    {
      "cell_type": "code",
      "metadata": {
        "id": "Yggb4uH9HxiK",
        "colab_type": "code",
        "colab": {}
      },
      "source": [
        "for i in data_prac.columns:\n",
        "    if data_prac[i].dtype == 'O':\n",
        "        try:\n",
        "            assigning_categorical(data_prac, i)\n",
        "        except Exception as e:\n",
        "            pass"
      ],
      "execution_count": 0,
      "outputs": []
    },
    {
      "cell_type": "code",
      "metadata": {
        "id": "RFGRHj82HxiM",
        "colab_type": "code",
        "colab": {}
      },
      "source": [
        "data_prac['saleyear'] = data_prac['saledate'].dt.year\n",
        "data_prac.drop('saledate', axis=1,inplace=True)"
      ],
      "execution_count": 0,
      "outputs": []
    },
    {
      "cell_type": "code",
      "metadata": {
        "id": "nVIQefc0HxiP",
        "colab_type": "code",
        "colab": {}
      },
      "source": [
        "data_prac.SalePrice = np.log(data_prac.SalePrice)"
      ],
      "execution_count": 0,
      "outputs": []
    },
    {
      "cell_type": "code",
      "metadata": {
        "id": "oZ_8Neg6HxiR",
        "colab_type": "code",
        "colab": {}
      },
      "source": [
        "for i in data_prac.columns:\n",
        "    data_prac[i] = data_prac[i].fillna(data_prac[i].median())"
      ],
      "execution_count": 0,
      "outputs": []
    },
    {
      "cell_type": "code",
      "metadata": {
        "id": "HblmOyrxHxia",
        "colab_type": "code",
        "colab": {}
      },
      "source": [
        "X = data_prac.drop('SalePrice', axis=1)\n",
        "y = data_prac.SalePrice"
      ],
      "execution_count": 0,
      "outputs": []
    },
    {
      "cell_type": "code",
      "metadata": {
        "id": "8_-osb7WHxie",
        "colab_type": "code",
        "outputId": "588a4d13-6ee6-4b73-94c6-f6118b7285b9",
        "colab": {
          "base_uri": "https://localhost:8080/",
          "height": 92
        }
      },
      "source": [
        "forr = RandomForestRegressor(n_jobs=-1)\n",
        "forr.fit(X,y)\n",
        "forr.score(X,y)"
      ],
      "execution_count": 23,
      "outputs": [
        {
          "output_type": "stream",
          "text": [
            "/usr/local/lib/python3.6/dist-packages/sklearn/ensemble/forest.py:245: FutureWarning: The default value of n_estimators will change from 10 in version 0.20 to 100 in 0.22.\n",
            "  \"10 in version 0.20 to 100 in 0.22.\", FutureWarning)\n"
          ],
          "name": "stderr"
        },
        {
          "output_type": "execute_result",
          "data": {
            "text/plain": [
              "0.9818825505195461"
            ]
          },
          "metadata": {
            "tags": []
          },
          "execution_count": 23
        }
      ]
    },
    {
      "cell_type": "markdown",
      "metadata": {
        "id": "au4Mo_R2Hxii",
        "colab_type": "text"
      },
      "source": [
        "# Creating Sets"
      ]
    },
    {
      "cell_type": "code",
      "metadata": {
        "id": "DCX8d6sEeiB3",
        "colab_type": "code",
        "colab": {
          "base_uri": "https://localhost:8080/",
          "height": 54
        },
        "outputId": "6cd8c446-4f8c-46d3-9767-073253e9c236"
      },
      "source": [
        "def sum(a,b): print (a+b)\n",
        "if a==b: print ('True')\n",
        "else: print('False')\n",
        "\n",
        "x=sum(5,6)"
      ],
      "execution_count": 38,
      "outputs": [
        {
          "output_type": "stream",
          "text": [
            "False\n",
            "11\n"
          ],
          "name": "stdout"
        }
      ]
    },
    {
      "cell_type": "code",
      "metadata": {
        "id": "dWv46ddGHxij",
        "colab_type": "code",
        "outputId": "424ef9d6-72ab-422a-c604-2528fa5278f0",
        "colab": {
          "base_uri": "https://localhost:8080/",
          "height": 35
        }
      },
      "source": [
        "def split_vals(a,n): return a[:n].copy(), a[n:].copy()\n",
        "\n",
        "n_valid = 12000  # same as Kaggle's test set size\n",
        "n_trn = len(X)-n_valid\n",
        "raw_train, raw_valid = split_vals(data_prac, n_trn)\n",
        "X_train, X_valid = split_vals(X, n_trn)\n",
        "y_train, y_valid = split_vals(y, n_trn)\n",
        "\n",
        "X_train.shape, y_train.shape, X_valid.shape"
      ],
      "execution_count": 39,
      "outputs": [
        {
          "output_type": "execute_result",
          "data": {
            "text/plain": [
              "((389125, 52), (389125,), (12000, 52))"
            ]
          },
          "metadata": {
            "tags": []
          },
          "execution_count": 39
        }
      ]
    },
    {
      "cell_type": "markdown",
      "metadata": {
        "id": "H2kuRM81Hxip",
        "colab_type": "text"
      },
      "source": [
        "# Random Forests"
      ]
    },
    {
      "cell_type": "markdown",
      "metadata": {
        "id": "NNGx47Y9Hxiq",
        "colab_type": "text"
      },
      "source": [
        "## Base model\n",
        "\n",
        "Let's try our model again, this time with separate training and validation sets."
      ]
    },
    {
      "cell_type": "code",
      "metadata": {
        "id": "dHEELc3tHxir",
        "colab_type": "code",
        "colab": {}
      },
      "source": [
        "def rmse(x,y): return math.sqrt(((x-y)**2).mean())\n",
        "\n",
        "def print_score(m):\n",
        "    res = [rmse(m.predict(X_train), y_train), rmse(m.predict(X_valid), y_valid),\n",
        "                m.score(X_train, y_train), m.score(X_valid, y_valid)]\n",
        "    if hasattr(m, 'oob_score_'): res.append(m.oob_score_)\n",
        "    print(res)"
      ],
      "execution_count": 0,
      "outputs": []
    },
    {
      "cell_type": "code",
      "metadata": {
        "id": "gUP4mAk3Hxiu",
        "colab_type": "code",
        "outputId": "bb6cdd05-39c8-488a-a7b7-de82b6a835b1",
        "colab": {
          "base_uri": "https://localhost:8080/",
          "height": 35
        }
      },
      "source": [
        "m = RandomForestRegressor(n_estimators=1, max_depth=3, bootstrap=False, n_jobs=-1)\n",
        "m.fit(X_train, y_train)\n",
        "print_score(m)"
      ],
      "execution_count": 44,
      "outputs": [
        {
          "output_type": "stream",
          "text": [
            "[0.5513536884318322, 0.5727537785897572, 0.36467580537988453, 0.4141534186104251]\n"
          ],
          "name": "stdout"
        }
      ]
    },
    {
      "cell_type": "code",
      "metadata": {
        "id": "6lo837keHxjB",
        "colab_type": "code",
        "colab": {}
      },
      "source": [
        "import graphviz\n",
        "import IPython\n",
        "\n",
        "def draw_tree(t, df, size=10, ratio=0.6, precision=0):\n",
        "    \"\"\" Draws a representation of a random forest in IPython.\n",
        "    Parameters:\n",
        "    -----------\n",
        "    t: The tree you wish to draw\n",
        "    df: The data used to train the tree. This is used to get the names of the features.\n",
        "    \"\"\"\n",
        "    s=export_graphviz(t, out_file=None, feature_names=df.columns, filled=True,\n",
        "                      special_characters=True, rotate=True, precision=precision)\n",
        "    IPython.display.display(graphviz.Source(re.sub('Tree {',\n",
        "       f'Tree {{ size={size}; ratio={ratio}', s)))"
      ],
      "execution_count": 0,
      "outputs": []
    },
    {
      "cell_type": "code",
      "metadata": {
        "id": "mjLW0GrBHxjH",
        "colab_type": "code",
        "outputId": "8d0e0c05-9bbc-446d-d521-b895859544ed",
        "colab": {
          "base_uri": "https://localhost:8080/",
          "height": 619
        }
      },
      "source": [
        "draw_tree(m.estimators_[0], X, precision=3)"
      ],
      "execution_count": 48,
      "outputs": [
        {
          "output_type": "display_data",
          "data": {
            "text/plain": [
              "<graphviz.files.Source at 0x7f050fca27f0>"
            ],
            "image/svg+xml": "<?xml version=\"1.0\" encoding=\"UTF-8\" standalone=\"no\"?>\n<!DOCTYPE svg PUBLIC \"-//W3C//DTD SVG 1.1//EN\"\n \"http://www.w3.org/Graphics/SVG/1.1/DTD/svg11.dtd\">\n<!-- Generated by graphviz version 2.40.1 (20161225.0304)\n -->\n<!-- Title: Tree Pages: 1 -->\n<svg width=\"720pt\" height=\"434pt\"\n viewBox=\"0.00 0.00 720.00 434.49\" xmlns=\"http://www.w3.org/2000/svg\" xmlns:xlink=\"http://www.w3.org/1999/xlink\">\n<g id=\"graph0\" class=\"graph\" transform=\"scale(.7787 .7787) rotate(0) translate(4 554)\">\n<title>Tree</title>\n<polygon fill=\"#ffffff\" stroke=\"transparent\" points=\"-4,4 -4,-554 920.6667,-554 920.6667,4 -4,4\"/>\n<!-- 0 -->\n<g id=\"node1\" class=\"node\">\n<title>0</title>\n<polygon fill=\"#f7d8c1\" stroke=\"#000000\" points=\"161.1667,-336.5 22.1667,-336.5 22.1667,-268.5 161.1667,-268.5 161.1667,-336.5\"/>\n<text text-anchor=\"start\" x=\"30.1667\" y=\"-321.3\" font-family=\"Times,serif\" font-size=\"14.00\" fill=\"#000000\">Enclosure_new ≤ 0.5</text>\n<text text-anchor=\"start\" x=\"55.1667\" y=\"-306.3\" font-family=\"Times,serif\" font-size=\"14.00\" fill=\"#000000\">mse = 0.478</text>\n<text text-anchor=\"start\" x=\"38.6667\" y=\"-291.3\" font-family=\"Times,serif\" font-size=\"14.00\" fill=\"#000000\">samples = 389125</text>\n<text text-anchor=\"start\" x=\"47.6667\" y=\"-276.3\" font-family=\"Times,serif\" font-size=\"14.00\" fill=\"#000000\">value = 10.106</text>\n</g>\n<!-- 1 -->\n<g id=\"node2\" class=\"node\">\n<title>1</title>\n<polygon fill=\"#efaf81\" stroke=\"#000000\" points=\"419.6667,-372.5 255.6667,-372.5 255.6667,-304.5 419.6667,-304.5 419.6667,-372.5\"/>\n<text text-anchor=\"start\" x=\"263.6667\" y=\"-357.3\" font-family=\"Times,serif\" font-size=\"14.00\" fill=\"#000000\">ProductGroup_new ≤ 3.5</text>\n<text text-anchor=\"start\" x=\"301.1667\" y=\"-342.3\" font-family=\"Times,serif\" font-size=\"14.00\" fill=\"#000000\">mse = 0.314</text>\n<text text-anchor=\"start\" x=\"288.1667\" y=\"-327.3\" font-family=\"Times,serif\" font-size=\"14.00\" fill=\"#000000\">samples = 84043</text>\n<text text-anchor=\"start\" x=\"293.6667\" y=\"-312.3\" font-family=\"Times,serif\" font-size=\"14.00\" fill=\"#000000\">value = 10.713</text>\n</g>\n<!-- 0&#45;&gt;1 -->\n<g id=\"edge1\" class=\"edge\">\n<title>0&#45;&gt;1</title>\n<path fill=\"none\" stroke=\"#000000\" d=\"M161.174,-312.6718C187.2412,-316.4865 217.2894,-320.8838 245.1183,-324.9563\"/>\n<polygon fill=\"#000000\" stroke=\"#000000\" points=\"244.8577,-328.4554 255.2591,-326.4404 245.8714,-321.5292 244.8577,-328.4554\"/>\n<text text-anchor=\"middle\" x=\"235.2081\" y=\"-337.672\" font-family=\"Times,serif\" font-size=\"14.00\" fill=\"#000000\">True</text>\n</g>\n<!-- 8 -->\n<g id=\"node9\" class=\"node\">\n<title>8</title>\n<polygon fill=\"#f9e3d3\" stroke=\"#000000\" points=\"400.1667,-245.5 275.1667,-245.5 275.1667,-177.5 400.1667,-177.5 400.1667,-245.5\"/>\n<text text-anchor=\"start\" x=\"283.1667\" y=\"-230.3\" font-family=\"Times,serif\" font-size=\"14.00\" fill=\"#000000\">ModelID ≤ 4573.0</text>\n<text text-anchor=\"start\" x=\"301.1667\" y=\"-215.3\" font-family=\"Times,serif\" font-size=\"14.00\" fill=\"#000000\">mse = 0.394</text>\n<text text-anchor=\"start\" x=\"284.6667\" y=\"-200.3\" font-family=\"Times,serif\" font-size=\"14.00\" fill=\"#000000\">samples = 305082</text>\n<text text-anchor=\"start\" x=\"297.1667\" y=\"-185.3\" font-family=\"Times,serif\" font-size=\"14.00\" fill=\"#000000\">value = 9.938</text>\n</g>\n<!-- 0&#45;&gt;8 -->\n<g id=\"edge8\" class=\"edge\">\n<title>0&#45;&gt;8</title>\n<path fill=\"none\" stroke=\"#000000\" d=\"M161.174,-276.7879C193.7614,-264.7333 232.5702,-250.3771 265.4871,-238.2006\"/>\n<polygon fill=\"#000000\" stroke=\"#000000\" points=\"266.8865,-241.4148 275.0511,-234.6627 264.4579,-234.8496 266.8865,-241.4148\"/>\n<text text-anchor=\"middle\" x=\"252.3383\" y=\"-220.5162\" font-family=\"Times,serif\" font-size=\"14.00\" fill=\"#000000\">False</text>\n</g>\n<!-- 2 -->\n<g id=\"node3\" class=\"node\">\n<title>2</title>\n<polygon fill=\"#f0b48a\" stroke=\"#000000\" points=\"682.6667,-486.5 518.6667,-486.5 518.6667,-418.5 682.6667,-418.5 682.6667,-486.5\"/>\n<text text-anchor=\"start\" x=\"526.6667\" y=\"-471.3\" font-family=\"Times,serif\" font-size=\"14.00\" fill=\"#000000\">ProductGroup_new ≤ 2.5</text>\n<text text-anchor=\"start\" x=\"564.1667\" y=\"-456.3\" font-family=\"Times,serif\" font-size=\"14.00\" fill=\"#000000\">mse = 0.292</text>\n<text text-anchor=\"start\" x=\"551.1667\" y=\"-441.3\" font-family=\"Times,serif\" font-size=\"14.00\" fill=\"#000000\">samples = 63810</text>\n<text text-anchor=\"start\" x=\"556.6667\" y=\"-426.3\" font-family=\"Times,serif\" font-size=\"14.00\" fill=\"#000000\">value = 10.635</text>\n</g>\n<!-- 1&#45;&gt;2 -->\n<g id=\"edge2\" class=\"edge\">\n<title>1&#45;&gt;2</title>\n<path fill=\"none\" stroke=\"#000000\" d=\"M416.2191,-372.5493C446.534,-385.6897 481.3558,-400.7835 512.5198,-414.2918\"/>\n<polygon fill=\"#000000\" stroke=\"#000000\" points=\"511.4977,-417.6634 522.0649,-418.4293 514.2817,-411.2408 511.4977,-417.6634\"/>\n</g>\n<!-- 5 -->\n<g id=\"node6\" class=\"node\">\n<title>5</title>\n<polygon fill=\"#eb9e67\" stroke=\"#000000\" points=\"667.1667,-372.5 534.1667,-372.5 534.1667,-304.5 667.1667,-304.5 667.1667,-372.5\"/>\n<text text-anchor=\"start\" x=\"542.1667\" y=\"-357.3\" font-family=\"Times,serif\" font-size=\"14.00\" fill=\"#000000\">ModelID ≤ 23900.0</text>\n<text text-anchor=\"start\" x=\"564.1667\" y=\"-342.3\" font-family=\"Times,serif\" font-size=\"14.00\" fill=\"#000000\">mse = 0.301</text>\n<text text-anchor=\"start\" x=\"551.1667\" y=\"-327.3\" font-family=\"Times,serif\" font-size=\"14.00\" fill=\"#000000\">samples = 20233</text>\n<text text-anchor=\"start\" x=\"556.6667\" y=\"-312.3\" font-family=\"Times,serif\" font-size=\"14.00\" fill=\"#000000\">value = 10.962</text>\n</g>\n<!-- 1&#45;&gt;5 -->\n<g id=\"edge5\" class=\"edge\">\n<title>1&#45;&gt;5</title>\n<path fill=\"none\" stroke=\"#000000\" d=\"M419.7997,-338.5C452.9834,-338.5 491.0735,-338.5 523.7139,-338.5\"/>\n<polygon fill=\"#000000\" stroke=\"#000000\" points=\"524.1069,-342.0001 534.1068,-338.5 524.1068,-335.0001 524.1069,-342.0001\"/>\n</g>\n<!-- 3 -->\n<g id=\"node4\" class=\"node\">\n<title>3</title>\n<polygon fill=\"#efb184\" stroke=\"#000000\" points=\"894.1667,-550 779.1667,-550 779.1667,-497 894.1667,-497 894.1667,-550\"/>\n<text text-anchor=\"start\" x=\"800.1667\" y=\"-534.8\" font-family=\"Times,serif\" font-size=\"14.00\" fill=\"#000000\">mse = 0.286</text>\n<text text-anchor=\"start\" x=\"787.1667\" y=\"-519.8\" font-family=\"Times,serif\" font-size=\"14.00\" fill=\"#000000\">samples = 57081</text>\n<text text-anchor=\"start\" x=\"792.6667\" y=\"-504.8\" font-family=\"Times,serif\" font-size=\"14.00\" fill=\"#000000\">value = 10.691</text>\n</g>\n<!-- 2&#45;&gt;3 -->\n<g id=\"edge3\" class=\"edge\">\n<title>2&#45;&gt;3</title>\n<path fill=\"none\" stroke=\"#000000\" d=\"M682.8767,-477.2327C711.0741,-485.7158 742.2831,-495.105 769.1772,-503.196\"/>\n<polygon fill=\"#000000\" stroke=\"#000000\" points=\"768.2924,-506.5847 778.8768,-506.1141 770.3091,-499.8814 768.2924,-506.5847\"/>\n</g>\n<!-- 4 -->\n<g id=\"node5\" class=\"node\">\n<title>4</title>\n<polygon fill=\"#f6d4bc\" stroke=\"#000000\" points=\"890.1667,-479 783.1667,-479 783.1667,-426 890.1667,-426 890.1667,-479\"/>\n<text text-anchor=\"start\" x=\"800.1667\" y=\"-463.8\" font-family=\"Times,serif\" font-size=\"14.00\" fill=\"#000000\">mse = 0.086</text>\n<text text-anchor=\"start\" x=\"791.1667\" y=\"-448.8\" font-family=\"Times,serif\" font-size=\"14.00\" fill=\"#000000\">samples = 6729</text>\n<text text-anchor=\"start\" x=\"792.6667\" y=\"-433.8\" font-family=\"Times,serif\" font-size=\"14.00\" fill=\"#000000\">value = 10.156</text>\n</g>\n<!-- 2&#45;&gt;4 -->\n<g id=\"edge4\" class=\"edge\">\n<title>2&#45;&gt;4</title>\n<path fill=\"none\" stroke=\"#000000\" d=\"M682.8767,-452.5C712.2479,-452.5 744.8868,-452.5 772.513,-452.5\"/>\n<polygon fill=\"#000000\" stroke=\"#000000\" points=\"772.8384,-456.0001 782.8384,-452.5 772.8383,-449.0001 772.8384,-456.0001\"/>\n</g>\n<!-- 6 -->\n<g id=\"node7\" class=\"node\">\n<title>6</title>\n<polygon fill=\"#eca571\" stroke=\"#000000\" points=\"894.1667,-408 779.1667,-408 779.1667,-355 894.1667,-355 894.1667,-408\"/>\n<text text-anchor=\"start\" x=\"800.1667\" y=\"-392.8\" font-family=\"Times,serif\" font-size=\"14.00\" fill=\"#000000\">mse = 0.285</text>\n<text text-anchor=\"start\" x=\"787.1667\" y=\"-377.8\" font-family=\"Times,serif\" font-size=\"14.00\" fill=\"#000000\">samples = 16797</text>\n<text text-anchor=\"start\" x=\"792.6667\" y=\"-362.8\" font-family=\"Times,serif\" font-size=\"14.00\" fill=\"#000000\">value = 10.872</text>\n</g>\n<!-- 5&#45;&gt;6 -->\n<g id=\"edge6\" class=\"edge\">\n<title>5&#45;&gt;6</title>\n<path fill=\"none\" stroke=\"#000000\" d=\"M667.3485,-350.6497C699.0808,-356.4314 736.9623,-363.3335 768.8404,-369.1418\"/>\n<polygon fill=\"#000000\" stroke=\"#000000\" points=\"768.4986,-372.6371 778.9641,-370.9864 769.7534,-365.7505 768.4986,-372.6371\"/>\n</g>\n<!-- 7 -->\n<g id=\"node8\" class=\"node\">\n<title>7</title>\n<polygon fill=\"#e58139\" stroke=\"#000000\" points=\"890.1667,-337 783.1667,-337 783.1667,-284 890.1667,-284 890.1667,-337\"/>\n<text text-anchor=\"start\" x=\"800.1667\" y=\"-321.8\" font-family=\"Times,serif\" font-size=\"14.00\" fill=\"#000000\">mse = 0.146</text>\n<text text-anchor=\"start\" x=\"791.1667\" y=\"-306.8\" font-family=\"Times,serif\" font-size=\"14.00\" fill=\"#000000\">samples = 3436</text>\n<text text-anchor=\"start\" x=\"792.6667\" y=\"-291.8\" font-family=\"Times,serif\" font-size=\"14.00\" fill=\"#000000\">value = 11.402</text>\n</g>\n<!-- 5&#45;&gt;7 -->\n<g id=\"edge7\" class=\"edge\">\n<title>5&#45;&gt;7</title>\n<path fill=\"none\" stroke=\"#000000\" d=\"M667.3485,-330.5886C700.3107,-326.6778 739.9081,-321.9798 772.5194,-318.1107\"/>\n<polygon fill=\"#000000\" stroke=\"#000000\" points=\"773.3268,-321.5395 782.8447,-316.8857 772.502,-314.5883 773.3268,-321.5395\"/>\n</g>\n<!-- 9 -->\n<g id=\"node10\" class=\"node\">\n<title>9</title>\n<polygon fill=\"#f6d2b8\" stroke=\"#000000\" points=\"666.1667,-245.5 535.1667,-245.5 535.1667,-177.5 666.1667,-177.5 666.1667,-245.5\"/>\n<text text-anchor=\"start\" x=\"543.1667\" y=\"-230.3\" font-family=\"Times,serif\" font-size=\"14.00\" fill=\"#000000\">YearMade ≤ 1973.5</text>\n<text text-anchor=\"start\" x=\"564.1667\" y=\"-215.3\" font-family=\"Times,serif\" font-size=\"14.00\" fill=\"#000000\">mse = 0.356</text>\n<text text-anchor=\"start\" x=\"547.6667\" y=\"-200.3\" font-family=\"Times,serif\" font-size=\"14.00\" fill=\"#000000\">samples = 135888</text>\n<text text-anchor=\"start\" x=\"556.6667\" y=\"-185.3\" font-family=\"Times,serif\" font-size=\"14.00\" fill=\"#000000\">value = 10.191</text>\n</g>\n<!-- 8&#45;&gt;9 -->\n<g id=\"edge9\" class=\"edge\">\n<title>8&#45;&gt;9</title>\n<path fill=\"none\" stroke=\"#000000\" d=\"M400.3276,-211.5C437.6454,-211.5 485.2638,-211.5 524.7118,-211.5\"/>\n<polygon fill=\"#000000\" stroke=\"#000000\" points=\"524.8157,-215.0001 534.8156,-211.5 524.8156,-208.0001 524.8157,-215.0001\"/>\n</g>\n<!-- 12 -->\n<g id=\"node13\" class=\"node\">\n<title>12</title>\n<polygon fill=\"#fcf1e9\" stroke=\"#000000\" points=\"682.6667,-131.5 518.6667,-131.5 518.6667,-63.5 682.6667,-63.5 682.6667,-131.5\"/>\n<text text-anchor=\"start\" x=\"526.6667\" y=\"-116.3\" font-family=\"Times,serif\" font-size=\"14.00\" fill=\"#000000\">ProductGroup_new ≤ 1.5</text>\n<text text-anchor=\"start\" x=\"564.1667\" y=\"-101.3\" font-family=\"Times,serif\" font-size=\"14.00\" fill=\"#000000\">mse = 0.332</text>\n<text text-anchor=\"start\" x=\"547.6667\" y=\"-86.3\" font-family=\"Times,serif\" font-size=\"14.00\" fill=\"#000000\">samples = 169194</text>\n<text text-anchor=\"start\" x=\"560.1667\" y=\"-71.3\" font-family=\"Times,serif\" font-size=\"14.00\" fill=\"#000000\">value = 9.735</text>\n</g>\n<!-- 8&#45;&gt;12 -->\n<g id=\"edge12\" class=\"edge\">\n<title>8&#45;&gt;12</title>\n<path fill=\"none\" stroke=\"#000000\" d=\"M400.3276,-184.339C433.9429,-169.7681 475.9163,-151.5743 512.7471,-135.6096\"/>\n<polygon fill=\"#000000\" stroke=\"#000000\" points=\"514.2087,-138.7908 521.9918,-131.6024 511.4247,-132.3682 514.2087,-138.7908\"/>\n</g>\n<!-- 10 -->\n<g id=\"node11\" class=\"node\">\n<title>10</title>\n<polygon fill=\"#fceee5\" stroke=\"#000000\" points=\"894.1667,-266 779.1667,-266 779.1667,-213 894.1667,-213 894.1667,-266\"/>\n<text text-anchor=\"start\" x=\"804.1667\" y=\"-250.8\" font-family=\"Times,serif\" font-size=\"14.00\" fill=\"#000000\">mse = 0.24</text>\n<text text-anchor=\"start\" x=\"787.1667\" y=\"-235.8\" font-family=\"Times,serif\" font-size=\"14.00\" fill=\"#000000\">samples = 19486</text>\n<text text-anchor=\"start\" x=\"800.1667\" y=\"-220.8\" font-family=\"Times,serif\" font-size=\"14.00\" fill=\"#000000\">value = 9.77</text>\n</g>\n<!-- 9&#45;&gt;10 -->\n<g id=\"edge10\" class=\"edge\">\n<title>9&#45;&gt;10</title>\n<path fill=\"none\" stroke=\"#000000\" d=\"M666.4058,-219.2996C698.2806,-223.0813 736.531,-227.6195 768.6953,-231.4356\"/>\n<polygon fill=\"#000000\" stroke=\"#000000\" points=\"768.5659,-234.9447 778.9086,-232.6473 769.3907,-227.9935 768.5659,-234.9447\"/>\n</g>\n<!-- 11 -->\n<g id=\"node12\" class=\"node\">\n<title>11</title>\n<polygon fill=\"#f5cdb1\" stroke=\"#000000\" points=\"897.6667,-195 775.6667,-195 775.6667,-142 897.6667,-142 897.6667,-195\"/>\n<text text-anchor=\"start\" x=\"800.1667\" y=\"-179.8\" font-family=\"Times,serif\" font-size=\"14.00\" fill=\"#000000\">mse = 0.341</text>\n<text text-anchor=\"start\" x=\"783.6667\" y=\"-164.8\" font-family=\"Times,serif\" font-size=\"14.00\" fill=\"#000000\">samples = 116402</text>\n<text text-anchor=\"start\" x=\"792.6667\" y=\"-149.8\" font-family=\"Times,serif\" font-size=\"14.00\" fill=\"#000000\">value = 10.261</text>\n</g>\n<!-- 9&#45;&gt;11 -->\n<g id=\"edge11\" class=\"edge\">\n<title>9&#45;&gt;11</title>\n<path fill=\"none\" stroke=\"#000000\" d=\"M666.4058,-199.5221C697.173,-193.9162 733.8803,-187.228 765.3207,-181.4995\"/>\n<polygon fill=\"#000000\" stroke=\"#000000\" points=\"766.1188,-184.9118 775.3294,-179.6759 764.8639,-178.0252 766.1188,-184.9118\"/>\n</g>\n<!-- 13 -->\n<g id=\"node14\" class=\"node\">\n<title>13</title>\n<polygon fill=\"#ffffff\" stroke=\"#000000\" points=\"894.1667,-124 779.1667,-124 779.1667,-71 894.1667,-71 894.1667,-124\"/>\n<text text-anchor=\"start\" x=\"800.1667\" y=\"-108.8\" font-family=\"Times,serif\" font-size=\"14.00\" fill=\"#000000\">mse = 0.338</text>\n<text text-anchor=\"start\" x=\"787.1667\" y=\"-93.8\" font-family=\"Times,serif\" font-size=\"14.00\" fill=\"#000000\">samples = 61515</text>\n<text text-anchor=\"start\" x=\"796.1667\" y=\"-78.8\" font-family=\"Times,serif\" font-size=\"14.00\" fill=\"#000000\">value = 9.521</text>\n</g>\n<!-- 12&#45;&gt;13 -->\n<g id=\"edge13\" class=\"edge\">\n<title>12&#45;&gt;13</title>\n<path fill=\"none\" stroke=\"#000000\" d=\"M682.8767,-97.5C710.9504,-97.5 742.0094,-97.5 768.8231,-97.5\"/>\n<polygon fill=\"#000000\" stroke=\"#000000\" points=\"768.8768,-101.0001 778.8768,-97.5 768.8767,-94.0001 768.8768,-101.0001\"/>\n</g>\n<!-- 14 -->\n<g id=\"node15\" class=\"node\">\n<title>14</title>\n<polygon fill=\"#fae9dc\" stroke=\"#000000\" points=\"897.6667,-53 775.6667,-53 775.6667,0 897.6667,0 897.6667,-53\"/>\n<text text-anchor=\"start\" x=\"800.1667\" y=\"-37.8\" font-family=\"Times,serif\" font-size=\"14.00\" fill=\"#000000\">mse = 0.287</text>\n<text text-anchor=\"start\" x=\"783.6667\" y=\"-22.8\" font-family=\"Times,serif\" font-size=\"14.00\" fill=\"#000000\">samples = 107679</text>\n<text text-anchor=\"start\" x=\"796.1667\" y=\"-7.8\" font-family=\"Times,serif\" font-size=\"14.00\" fill=\"#000000\">value = 9.857</text>\n</g>\n<!-- 12&#45;&gt;14 -->\n<g id=\"edge14\" class=\"edge\">\n<title>12&#45;&gt;14</title>\n<path fill=\"none\" stroke=\"#000000\" d=\"M682.8767,-72.7673C709.8888,-64.6408 739.6647,-55.6828 765.7634,-47.8311\"/>\n<polygon fill=\"#000000\" stroke=\"#000000\" points=\"767.0048,-51.1126 775.5725,-44.88 764.9881,-44.4094 767.0048,-51.1126\"/>\n</g>\n</g>\n</svg>\n"
          },
          "metadata": {
            "tags": []
          }
        }
      ]
    },
    {
      "cell_type": "markdown",
      "metadata": {
        "id": "0Bf4R7B3Tz_r",
        "colab_type": "text"
      },
      "source": [
        "Creating a bigger tree"
      ]
    },
    {
      "cell_type": "code",
      "metadata": {
        "id": "hCOF9hM4HxjJ",
        "colab_type": "code",
        "outputId": "293fc826-554d-484b-8f6f-ba63e5cc9d74",
        "colab": {
          "base_uri": "https://localhost:8080/",
          "height": 34
        }
      },
      "source": [
        "m = RandomForestRegressor(n_estimators=1, bootstrap=False, n_jobs=-1)\n",
        "m.fit(X_train, y_train)\n",
        "print_score(m)"
      ],
      "execution_count": 0,
      "outputs": [
        {
          "output_type": "stream",
          "text": [
            "[9.128523288431049e-07, 0.3780168604151082, 0.9999999999982585, 0.7448060844195227]\n"
          ],
          "name": "stdout"
        }
      ]
    },
    {
      "cell_type": "markdown",
      "metadata": {
        "id": "Neiw-mkrUAso",
        "colab_type": "text"
      },
      "source": [
        "# Bagging"
      ]
    },
    {
      "cell_type": "markdown",
      "metadata": {
        "id": "bsPfKUGOUDlH",
        "colab_type": "text"
      },
      "source": [
        "## Intro to bagging\n",
        "\n",
        "To learn about bagging in random forests, let's start with our basic model again."
      ]
    },
    {
      "cell_type": "code",
      "metadata": {
        "id": "iZDnFzaQT_u8",
        "colab_type": "code",
        "outputId": "49eea6c9-5f13-4402-9e99-cb3cc4996816",
        "colab": {
          "base_uri": "https://localhost:8080/",
          "height": 87
        }
      },
      "source": [
        "m = RandomForestRegressor(n_jobs=-1)\n",
        "m.fit(X_train, y_train)\n",
        "print_score(m)"
      ],
      "execution_count": 0,
      "outputs": [
        {
          "output_type": "stream",
          "text": [
            "/usr/local/lib/python3.6/dist-packages/sklearn/ensemble/forest.py:245: FutureWarning: The default value of n_estimators will change from 10 in version 0.20 to 100 in 0.22.\n",
            "  \"10 in version 0.20 to 100 in 0.22.\", FutureWarning)\n"
          ],
          "name": "stderr"
        },
        {
          "output_type": "stream",
          "text": [
            "[0.0936756244393726, 0.25695322745456034, 0.9816604776803335, 0.8820885098419632]\n"
          ],
          "name": "stdout"
        }
      ]
    },
    {
      "cell_type": "code",
      "metadata": {
        "id": "dOVL4yqUTsMs",
        "colab_type": "code",
        "outputId": "b4d53e6b-a7cb-4c8f-d6dd-b3d06fe9ddc3",
        "colab": {
          "base_uri": "https://localhost:8080/",
          "height": 202
        }
      },
      "source": [
        "preds = np.stack([t.predict(X_valid) for t in m.estimators_])\n",
        "preds[:,0], np.mean(preds[:,0]), y_valid[:1]\n"
      ],
      "execution_count": 0,
      "outputs": [
        {
          "output_type": "execute_result",
          "data": {
            "text/plain": [
              "(array([8.95544812, 9.21034037, 9.21034037, 9.082507  , 9.10497986,\n",
              "        9.21034037, 9.10497986, 9.21034037, 9.21034037, 9.21034037,\n",
              "        8.98719682, 9.39266193, 9.21034037, 8.98719682, 9.39266193,\n",
              "        8.98719682, 9.21034037, 9.21034037, 9.21034037, 9.10497986,\n",
              "        9.10497986, 9.10497986, 9.04782144, 9.13237883, 9.21034037,\n",
              "        9.10497986, 9.39266193, 8.98719682, 9.21034037, 9.21034037,\n",
              "        9.10497986, 9.21034037, 9.21034037, 9.21034037, 9.21034037,\n",
              "        9.10497986, 8.93590353, 8.98719682, 9.21034037, 9.21034037]),\n",
              " 9.152608368244689,\n",
              " 389125    9.10498\n",
              " Name: SalePrice, dtype: float64)"
            ]
          },
          "metadata": {
            "tags": []
          },
          "execution_count": 58
        }
      ]
    },
    {
      "cell_type": "code",
      "metadata": {
        "id": "CasaNNaUUUJ3",
        "colab_type": "code",
        "outputId": "1fd7bc93-95f2-4e6f-eb3c-f7cadd8ccb1b",
        "colab": {
          "base_uri": "https://localhost:8080/",
          "height": 34
        }
      },
      "source": [
        "y_valid.shape"
      ],
      "execution_count": 0,
      "outputs": [
        {
          "output_type": "execute_result",
          "data": {
            "text/plain": [
              "(12000,)"
            ]
          },
          "metadata": {
            "tags": []
          },
          "execution_count": 39
        }
      ]
    },
    {
      "cell_type": "code",
      "metadata": {
        "id": "WFpT2WfTU2DA",
        "colab_type": "code",
        "outputId": "f8b636d1-99b9-4177-9be6-48ba749e10d5",
        "colab": {
          "base_uri": "https://localhost:8080/",
          "height": 50
        }
      },
      "source": [
        "y_valid[0:1]"
      ],
      "execution_count": 0,
      "outputs": [
        {
          "output_type": "execute_result",
          "data": {
            "text/plain": [
              "389125    9.10498\n",
              "Name: SalePrice, dtype: float64"
            ]
          },
          "metadata": {
            "tags": []
          },
          "execution_count": 57
        }
      ]
    },
    {
      "cell_type": "code",
      "metadata": {
        "id": "MLFJXppVVCXT",
        "colab_type": "code",
        "outputId": "dfa65e6a-73ac-4605-a3fa-9fc59fc79d24",
        "colab": {
          "base_uri": "https://localhost:8080/",
          "height": 34
        }
      },
      "source": [
        "preds.shape"
      ],
      "execution_count": 0,
      "outputs": [
        {
          "output_type": "execute_result",
          "data": {
            "text/plain": [
              "(10, 12000)"
            ]
          },
          "metadata": {
            "tags": []
          },
          "execution_count": 43
        }
      ]
    },
    {
      "cell_type": "code",
      "metadata": {
        "id": "mllsZ99QVP7e",
        "colab_type": "code",
        "outputId": "e25f14dd-331b-49dd-87fa-d9fe29fd60a1",
        "colab": {
          "base_uri": "https://localhost:8080/",
          "height": 269
        }
      },
      "source": [
        "from sklearn.metrics import r2_score\n",
        "plt.plot([r2_score(y_valid, np.mean(preds[:i+1], axis=0)) for i in range(10)]);"
      ],
      "execution_count": 0,
      "outputs": [
        {
          "output_type": "display_data",
          "data": {
            "image/png": "[encoded data removed]",
            "text/plain": [
              "<Figure size 432x288 with 1 Axes>"
            ]
          },
          "metadata": {
            "tags": []
          }
        }
      ]
    },
    {
      "cell_type": "markdown",
      "metadata": {
        "id": "zXzAJjRAVetF",
        "colab_type": "text"
      },
      "source": [
        "The shape of this curve suggests that adding more trees isn't going to help us much. Let's check. (Compare this to our original model on a sample)"
      ]
    },
    {
      "cell_type": "code",
      "metadata": {
        "id": "GEMeV4FgVSw6",
        "colab_type": "code",
        "outputId": "0ae585ba-a53b-4793-a0d8-72bc2ec68221",
        "colab": {
          "base_uri": "https://localhost:8080/",
          "height": 34
        }
      },
      "source": [
        "m = RandomForestRegressor(n_estimators=20, n_jobs=-1)\n",
        "m.fit(X_train, y_train)\n",
        "print_score(m)"
      ],
      "execution_count": 0,
      "outputs": [
        {
          "output_type": "stream",
          "text": [
            "[0.08570470346167433, 0.2487474560771727, 0.9846487360410744, 0.8894992387644246]\n"
          ],
          "name": "stdout"
        }
      ]
    },
    {
      "cell_type": "code",
      "metadata": {
        "id": "6sdSQKgSVjgy",
        "colab_type": "code",
        "outputId": "c195cbab-ce2c-43c7-fc9f-b04848b560f4",
        "colab": {
          "base_uri": "https://localhost:8080/",
          "height": 34
        }
      },
      "source": [
        "m = RandomForestRegressor(n_estimators=40, n_jobs=-1)\n",
        "m.fit(X_train, y_train)\n",
        "print_score(m)"
      ],
      "execution_count": 0,
      "outputs": [
        {
          "output_type": "stream",
          "text": [
            "[0.08126250979573663, 0.2424196420882945, 0.9861988495936823, 0.8950497239166417]\n"
          ],
          "name": "stdout"
        }
      ]
    },
    {
      "cell_type": "code",
      "metadata": {
        "id": "QQ7m__AjVlcv",
        "colab_type": "code",
        "outputId": "e8bc19f9-6eaf-44c0-e8d2-f128373417c3",
        "colab": {
          "base_uri": "https://localhost:8080/",
          "height": 34
        }
      },
      "source": [
        "m = RandomForestRegressor(n_estimators=80, n_jobs=-1)\n",
        "m.fit(X_train, y_train)\n",
        "print_score(m)"
      ],
      "execution_count": 0,
      "outputs": [
        {
          "output_type": "stream",
          "text": [
            "[0.07886808680249913, 0.24002177351068626, 0.9870001770474798, 0.8971156650075292]\n"
          ],
          "name": "stdout"
        }
      ]
    },
    {
      "cell_type": "markdown",
      "metadata": {
        "id": "4xlN-ExUVrpZ",
        "colab_type": "text"
      },
      "source": [
        "# Out-of-bag (OOB) score\n",
        "Is our validation set worse than our training set because we're over-fitting, or because the validation set is for a different time period, or a bit of both? With the existing information we've shown, we can't tell. However, random forests have a very clever trick called out-of-bag (OOB) error which can handle this (and more!)\n",
        "\n",
        "The idea is to calculate error on the training set, but only include the trees in the calculation of a row's error where that row was not included in training that tree. This allows us to see whether the model is over-fitting, without needing a separate validation set.\n",
        "\n",
        "This also has the benefit of allowing us to see whether our model generalizes, even if we only have a small amount of data so want to avoid separating some out to create a validation set.\n",
        "\n",
        "This is as simple as adding one more parameter to our model constructor. We print the OOB error last in our print_score function below."
      ]
    },
    {
      "cell_type": "code",
      "metadata": {
        "id": "w0RFhaYyVosP",
        "colab_type": "code",
        "outputId": "eab915cf-16c4-42a2-b8fd-5a575b10d25e",
        "colab": {
          "base_uri": "https://localhost:8080/",
          "height": 34
        }
      },
      "source": [
        "m = RandomForestRegressor(n_estimators=40, n_jobs=-1, oob_score=True)\n",
        "m.fit(X_train, y_train)\n",
        "print_score(m)"
      ],
      "execution_count": 0,
      "outputs": [
        {
          "output_type": "stream",
          "text": [
            "[0.08099853120660708, 0.2436479590898027, 0.986288369122448, 0.8939834835724925, 0.9021319454746931]\n"
          ],
          "name": "stdout"
        }
      ]
    },
    {
      "cell_type": "markdown",
      "metadata": {
        "id": "sxXtIpWWYIJm",
        "colab_type": "text"
      },
      "source": [
        "# Reducing over-fitting\n",
        "\n",
        "## Subsampling\n",
        "\n",
        "It turns out that one of the easiest ways to avoid over-fitting is also one of the best ways to speed up analysis: subsampling. Let's return to using our full dataset, so that we can demonstrate the impact of this technique."
      ]
    },
    {
      "cell_type": "code",
      "metadata": {
        "id": "yGQ6C8mJX8Gb",
        "colab_type": "code",
        "colab": {}
      },
      "source": [
        "data_sample = data_prac.sample(20000)"
      ],
      "execution_count": 0,
      "outputs": []
    },
    {
      "cell_type": "code",
      "metadata": {
        "id": "s1qSNe0cfs1g",
        "colab_type": "code",
        "outputId": "07c1b7c9-b8c2-4bf5-cbc3-badae773da92",
        "colab": {
          "base_uri": "https://localhost:8080/",
          "height": 34
        }
      },
      "source": [
        "len(data_sample)"
      ],
      "execution_count": 0,
      "outputs": [
        {
          "output_type": "execute_result",
          "data": {
            "text/plain": [
              "20000"
            ]
          },
          "metadata": {
            "tags": []
          },
          "execution_count": 60
        }
      ]
    },
    {
      "cell_type": "code",
      "metadata": {
        "id": "z-pMjnMGgDTO",
        "colab_type": "code",
        "colab": {}
      },
      "source": [
        "X = data_sample.drop('SalePrice', axis=1)\n",
        "y = data_sample.SalePrice"
      ],
      "execution_count": 0,
      "outputs": []
    },
    {
      "cell_type": "code",
      "metadata": {
        "id": "SNk2NONAfvLL",
        "colab_type": "code",
        "outputId": "3730de14-36ef-48a3-9e2b-998c23e68def",
        "colab": {
          "base_uri": "https://localhost:8080/",
          "height": 34
        }
      },
      "source": [
        "X_train, X_valid = split_vals(X, 12000)\n",
        "y_train, y_valid = split_vals(y, 12000)\n",
        "\n",
        "X_train.shape, y_train.shape, X_valid.shape"
      ],
      "execution_count": 0,
      "outputs": [
        {
          "output_type": "execute_result",
          "data": {
            "text/plain": [
              "((12000, 52), (12000,), (8000, 52))"
            ]
          },
          "metadata": {
            "tags": []
          },
          "execution_count": 67
        }
      ]
    },
    {
      "cell_type": "code",
      "metadata": {
        "id": "wq2Q8M09gPk0",
        "colab_type": "code",
        "outputId": "7077d8a2-3ce6-4edc-ce0f-3bf1386e8a5a",
        "colab": {
          "base_uri": "https://localhost:8080/",
          "height": 154
        }
      },
      "source": [
        "m = RandomForestRegressor(n_jobs=-1, oob_score=True)\n",
        "%time m.fit(X_train, y_train)\n",
        "print_score(m)"
      ],
      "execution_count": 0,
      "outputs": [
        {
          "output_type": "stream",
          "text": [
            "/usr/local/lib/python3.6/dist-packages/sklearn/ensemble/forest.py:245: FutureWarning: The default value of n_estimators will change from 10 in version 0.20 to 100 in 0.22.\n",
            "  \"10 in version 0.20 to 100 in 0.22.\", FutureWarning)\n",
            "/usr/local/lib/python3.6/dist-packages/sklearn/ensemble/forest.py:737: UserWarning: Some inputs do not have OOB scores. This probably means too few trees were used to compute any reliable oob estimates.\n",
            "  warn(\"Some inputs do not have OOB scores. \"\n"
          ],
          "name": "stderr"
        },
        {
          "output_type": "stream",
          "text": [
            "CPU times: user 1.73 s, sys: 5.02 ms, total: 1.73 s\n",
            "Wall time: 943 ms\n",
            "[0.12947898847698863, 0.30151965080873405, 0.96527981591862, 0.8124142866167801, -1.4481623491591842]\n"
          ],
          "name": "stdout"
        }
      ]
    },
    {
      "cell_type": "code",
      "metadata": {
        "id": "UG3kc0vKgkLl",
        "colab_type": "code",
        "outputId": "bd367bb8-d17b-4a4e-f0d1-1131af6a22a8",
        "colab": {
          "base_uri": "https://localhost:8080/",
          "height": 34
        }
      },
      "source": [
        "m = RandomForestRegressor(n_estimators=40, n_jobs=-1, oob_score=True)\n",
        "m.fit(X_train, y_train)\n",
        "print_score(m)"
      ],
      "execution_count": 0,
      "outputs": [
        {
          "output_type": "stream",
          "text": [
            "[0.11220345002824397, 0.2872851580334704, 0.9739267094165143, 0.8297077453090774, 0.8159481321547034]\n"
          ],
          "name": "stdout"
        }
      ]
    },
    {
      "cell_type": "markdown",
      "metadata": {
        "id": "11qZebJSh1Zw",
        "colab_type": "text"
      },
      "source": [
        "# Tree building parameters\n",
        "\n",
        "Playing with hyperparameters"
      ]
    },
    {
      "cell_type": "markdown",
      "metadata": {
        "id": "9On5FzgqinAQ",
        "colab_type": "text"
      },
      "source": [
        "Another way to reduce over-fitting is to grow our trees less deeply. We do this by specifying (with min_samples_leaf) that we require some minimum number of rows in every leaf node. This has two benefits:\n",
        "\n",
        "- There are less decision rules for each leaf node; simpler models should generalize better\n",
        "\n",
        "- The predictions are made by averaging more rows in the leaf node, resulting in less volatility"
      ]
    },
    {
      "cell_type": "code",
      "metadata": {
        "id": "0BWEgzsVhMMk",
        "colab_type": "code",
        "outputId": "612d6a46-78a8-4faa-a5f2-da1360f5ff69",
        "colab": {
          "base_uri": "https://localhost:8080/",
          "height": 34
        }
      },
      "source": [
        "m = RandomForestRegressor(n_estimators=40, min_samples_leaf=3, n_jobs=-1, oob_score=True)\n",
        "m.fit(X_train, y_train)\n",
        "print_score(m)"
      ],
      "execution_count": 0,
      "outputs": [
        {
          "output_type": "stream",
          "text": [
            "[0.16187472665969854, 0.2908435466494167, 0.9457322870172464, 0.8254630509368239, 0.815010747516502]\n"
          ],
          "name": "stdout"
        }
      ]
    },
    {
      "cell_type": "markdown",
      "metadata": {
        "id": "r23xzY0sjVFm",
        "colab_type": "text"
      },
      "source": [
        "We can also increase the amount of variation amongst the trees by not only use a sample of rows for each tree, but to also using a sample of columns for each split. We do this by specifying max_features, which is the proportion of features to randomly select from at each split.\n",
        "- None\n",
        "- 0.5\n",
        "- 'sqrt'\n",
        "- 1, 3, 5, 10, 25, 100"
      ]
    },
    {
      "cell_type": "code",
      "metadata": {
        "id": "8eHxnR8Yifu8",
        "colab_type": "code",
        "outputId": "d1c48e59-7c12-494a-eec4-bbc1489f4410",
        "colab": {
          "base_uri": "https://localhost:8080/",
          "height": 34
        }
      },
      "source": [
        "m = RandomForestRegressor(n_estimators=40, min_samples_leaf=3, max_features=0.5, n_jobs=-1, oob_score=True)\n",
        "m.fit(X_train, y_train)\n",
        "print_score(m)"
      ],
      "execution_count": 0,
      "outputs": [
        {
          "output_type": "stream",
          "text": [
            "[0.17359496357111356, 0.28891064946387307, 0.937589499514308, 0.8277752284361906, 0.8159045119487166]\n"
          ],
          "name": "stdout"
        }
      ]
    },
    {
      "cell_type": "code",
      "metadata": {
        "id": "Gt8vaQzVjsGj",
        "colab_type": "code",
        "colab": {}
      },
      "source": [
        ""
      ],
      "execution_count": 0,
      "outputs": []
    }
  ]
}